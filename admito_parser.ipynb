{
 "cells": [
  {
   "cell_type": "code",
   "execution_count": 28,
   "id": "24a6277b-e2d8-49dd-8019-d1cfb056743d",
   "metadata": {},
   "outputs": [],
   "source": [
    "from PyPDF2 import PdfReader\n",
    "import re\n",
    "import json"
   ]
  },
  {
   "cell_type": "code",
   "execution_count": 23,
   "id": "b81a9178-e17a-4657-b98c-fdb776be2cbd",
   "metadata": {},
   "outputs": [],
   "source": [
    "reader = PdfReader('info.pdf')"
   ]
  },
  {
   "cell_type": "code",
   "execution_count": 24,
   "id": "8c194dad-6496-4034-9613-588f6a63aaa5",
   "metadata": {},
   "outputs": [
    {
     "name": "stdout",
     "output_type": "stream",
     "text": [
      "9\n"
     ]
    }
   ],
   "source": [
    "print(len(reader.pages))"
   ]
  },
  {
   "cell_type": "code",
   "execution_count": 26,
   "id": "3b85b96f-0460-45ee-96a1-d49eb89a2619",
   "metadata": {},
   "outputs": [],
   "source": [
    "text = \"\"\n",
    "\n",
    "page = reader.pages[0]\n",
    "text = page.extract_text()\n",
    "\n",
    "# print(text)"
   ]
  },
  {
   "cell_type": "code",
   "execution_count": 27,
   "id": "c1c45308-787d-4a69-a63e-d5d07f86b2d6",
   "metadata": {},
   "outputs": [],
   "source": [
    "raw_text = \"\"\"\n",
    "1. Let us consider the algorithm  F(x), where  x is a natural number (1 ≤ x ≤ 106): \n",
    " \n",
    "Algorithm  F(x):  \n",
    "    If x = 0 then \n",
    "        Return 0 \n",
    "    Else \n",
    "        If x MOD 3 = 0 then \n",
    "            Return F(x DIV 10) + 1  \n",
    "        Else \n",
    "            Return F(x DIV 10) \n",
    "        EndIf  \n",
    "    EndIf  \n",
    "EndAlgorithm  Which of the following function calls will return 4?  \n",
    "A. F(21369)  \n",
    "B. F(6933)  \n",
    "C. F(4) \n",
    "D. F(16639) \n",
    "\"\"\""
   ]
  },
  {
   "cell_type": "code",
   "execution_count": 35,
   "id": "75c73342-addb-478b-a8e9-3c2e91fbe482",
   "metadata": {},
   "outputs": [],
   "source": [
    "def parse_text(text):\n",
    "    # we get the first part of the question\n",
    "    # until the word algorithm\n",
    "    question_match = re.search(r'(.*?)(?=Algorithm)', text, re.DOTALL)\n",
    "    question_before = question_match.group(1).strip() if question_match else ''\n",
    "\n",
    "    # we get the code, from algo-endalgo\n",
    "    code_match = re.search(r'(Algorithm.*?EndAlgorithm)', text, re.DOTALL)\n",
    "    code = code_match.group(1).strip() if code_match else ''\n",
    "\n",
    "    # leftover question, after code\n",
    "    question_after_match = re.search(r'EndAlgorithm(.*?)(?=[A-Z]\\.|$)', text, re.DOTALL)\n",
    "    question_after = question_after_match.group(1).strip() if question_after_match else ''\n",
    "\n",
    "    question = \" \".join([question_before, question_after])\n",
    "\n",
    "     # answers\n",
    "    answers_match = re.findall(r'([A-Z]\\.(.*?))(?=[A-Z]\\.|$)', text, re.DOTALL)\n",
    "    answers = [{key.strip(): value.strip()} for key, value in answers_match] if answers_match else []\n",
    "\n",
    "    # Create JSON object\n",
    "    parsed_json = {\n",
    "        \"question\": question,\n",
    "        \"answers\": answers,\n",
    "        \"code\": code\n",
    "    }\n",
    "\n",
    "    # ensure_ascii so we have ≤ instead of u2264\n",
    "    return json.dumps(parsed_json, indent=4, ensure_ascii=False)\n"
   ]
  },
  {
   "cell_type": "code",
   "execution_count": 38,
   "id": "dac38442-9fd0-4d1f-be3f-336781c859c7",
   "metadata": {},
   "outputs": [
    {
     "name": "stdout",
     "output_type": "stream",
     "text": [
      "{\n",
      "    \"question\": \"1. Let us consider the algorithm  F(x), where  x is a natural number (1 ≤ x ≤ 106): Which of the following function calls will return 4?\",\n",
      "    \"answers\": [\n",
      "        {\n",
      "            \"A. F(21369)\": \"F(21369)\"\n",
      "        },\n",
      "        {\n",
      "            \"B. F(6933)\": \"F(6933)\"\n",
      "        },\n",
      "        {\n",
      "            \"C. F(4)\": \"F(4)\"\n",
      "        },\n",
      "        {\n",
      "            \"D. F(16639)\": \"F(16639)\"\n",
      "        }\n",
      "    ],\n",
      "    \"code\": \"Algorithm  F(x):  \\n    If x = 0 then \\n        Return 0 \\n    Else \\n        If x MOD 3 = 0 then \\n            Return F(x DIV 10) + 1  \\n        Else \\n            Return F(x DIV 10) \\n        EndIf  \\n    EndIf  \\nEndAlgorithm\"\n",
      "}\n"
     ]
    }
   ],
   "source": [
    "parsed_json = parse_text(raw_text)\n",
    "print(parsed_json)"
   ]
  },
  {
   "cell_type": "code",
   "execution_count": null,
   "id": "e8df1407-5417-4f10-867c-bad38e523145",
   "metadata": {},
   "outputs": [],
   "source": []
  }
 ],
 "metadata": {
  "kernelspec": {
   "display_name": "Python 3 (ipykernel)",
   "language": "python",
   "name": "python3"
  },
  "language_info": {
   "codemirror_mode": {
    "name": "ipython",
    "version": 3
   },
   "file_extension": ".py",
   "mimetype": "text/x-python",
   "name": "python",
   "nbconvert_exporter": "python",
   "pygments_lexer": "ipython3",
   "version": "3.11.4"
  }
 },
 "nbformat": 4,
 "nbformat_minor": 5
}
